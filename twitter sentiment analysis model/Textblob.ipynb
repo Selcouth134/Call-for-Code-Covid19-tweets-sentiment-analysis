from textblob import textblob

# finding the polarity and subjectivity of the text
polarity = lambda x: TextBlob(x).sentiment.polarity
subjectivity = lambda x: TextBlob(x).sentiment.subjectivity

#calculating the ratio
def ratio(x):
 if x > 0:
  return 1
 elif x == 0:
  return 0
 else:
  return -1
 
 #labelling the sentiment as positive,negative and neutral
def label(sentiment):
    if sentiment >0:
        return "Positive"
    elif sentiment==0 :
        return "Neutral"
    else:
        return "Negative"
        
#adding them to respectives columns in the csv
dataset['polarity'] = dataset['text'].apply(polarity)
dataset['subjectivity'] = dataset['text'].apply(subjectivity) 
dataset['analysis'] = dataset['polarity'].apply(ratio)
dataset['sentiment'] = dataset['analysis'].apply(label)
