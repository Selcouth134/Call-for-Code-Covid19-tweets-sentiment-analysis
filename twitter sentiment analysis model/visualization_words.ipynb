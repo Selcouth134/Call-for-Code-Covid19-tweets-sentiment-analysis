import wordcloud import WordCloud, STOPWORDS
import matplotlib.pyplot as plt

text = text = " ".join(review for review in dataset.text)
print ("There are {} words in the combination of all review.".format(len(text)))
stopwords = set(STOPWORDS)
stopwords.update(["covid19","corona","pandemic"])

# Generates a word cloud image
wordcloud = WordCloud(stopwords=stopwords, background_color="white").generate(text)

# Display the generated image:
# the matplotlib way:
plt.figure(figsize=(15,10))
plt.imshow(wordcloud, interpolation='bilinear')
plt.axis("off")
plt.show()
