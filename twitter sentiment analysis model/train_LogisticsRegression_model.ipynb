
# Training Logistics Regression model

LR_model = LogisticRegression(solver='lbfgs')
LR_model.fit(X_train, y_train)
y_predict_lr = LR_model.predict(X_test)
print(accuracy_score(y_test, y_predict_lr))
#dataset.to_csv("june.csv")#mode='a', header=False)
