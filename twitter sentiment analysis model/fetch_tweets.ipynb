import tweepy
import csv
import pandas as pd

#authenticate credentials
API_KEY = ''
API_SECRET = ''

auth = tweepy.OAuthHandler(API_KEY,API_SECRET)
auth.set_access_token(access_token, access_token_secret)
api = tweepy.API(auth,wait_on_rate_limit=True)

# Open/Create a file to append data
csvFile = open('july.csv', 'a')

csvWriter = csv.writer(csvFile)

for tweet in tweepy.Cursor(api.search,q="#covid19",count=100,
                           lang="en",
                           since="2020-15-07").items():
    print (tweet.created_at, tweet.text)
    csvWriter.writerow([tweet.created_at, tweet.text.encode('utf-8')])
